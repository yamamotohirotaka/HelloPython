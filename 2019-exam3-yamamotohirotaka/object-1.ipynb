{
 "cells": [
  {
   "cell_type": "markdown",
   "metadata": {},
   "source": [
    "第5回、5.1 オブジェクト指向言語の概要で紹介した、 `Animal` クラスを定義し、Animalクラスから継承した、 `Rat` (ネズミ)クラスを定義し、 `bark` メソッドをオーバーライドして、 `Cat` クラスの鳴き声の部分を `ちゅーちゅー` と変更する"
   ]
  },
  {
   "cell_type": "code",
   "execution_count": 3,
   "metadata": {},
   "outputs": [],
   "source": [
    "class Animal:\n",
    "    def __init__(self, name):\n",
    "        self.name = name  # テキストを確認し、□□を埋めてください。\n",
    "        \n",
    "    def bark(self):\n",
    "        print(\"何かの動物の鳴き声\")"
   ]
  },
  {
   "cell_type": "code",
   "execution_count": 4,
   "metadata": {},
   "outputs": [],
   "source": [
    "class Rat(Animal):\n",
    "    def bark(self):\n",
    "        print(self.name, \"は、ちゅーちゅーと鳴く\")  # 回答結果にある通りに、「ジェリー は、'ちゅーちゅー'と鳴く」と出力させてください。"
   ]
  },
  {
   "cell_type": "markdown",
   "metadata": {},
   "source": [
    "Ratクラスを、 `ジェリー` をnameとして定義し、鳴き声を確認する"
   ]
  },
  {
   "cell_type": "code",
   "execution_count": 5,
   "metadata": {},
   "outputs": [
    {
     "name": "stdout",
     "output_type": "stream",
     "text": [
      "ジュリー は、ちゅーちゅーと鳴く\n"
     ]
    }
   ],
   "source": [
    "rat = Rat(\"ジュリー\")  # □□を埋めてください。\n",
    "rat.bark()"
   ]
  },
  {
   "cell_type": "code",
   "execution_count": null,
   "metadata": {},
   "outputs": [],
   "source": []
  }
 ],
 "metadata": {
  "kernelspec": {
   "display_name": "Python 3",
   "language": "python",
   "name": "python3"
  },
  "language_info": {
   "codemirror_mode": {
    "name": "ipython",
    "version": 3
   },
   "file_extension": ".py",
   "mimetype": "text/x-python",
   "name": "python",
   "nbconvert_exporter": "python",
   "pygments_lexer": "ipython3",
   "version": "3.6.4"
  }
 },
 "nbformat": 4,
 "nbformat_minor": 2
}
