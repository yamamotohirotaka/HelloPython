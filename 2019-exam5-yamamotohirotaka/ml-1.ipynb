{
 "cells": [
  {
   "cell_type": "markdown",
   "metadata": {},
   "source": [
    "以下の行列をQR分解して下さい。"
   ]
  },
  {
   "cell_type": "markdown",
   "metadata": {},
   "source": [
    "\\begin{pmatrix}\n",
    "2 & -2 & -1 \\\\\n",
    "1 & -1 & 2 \\\\\n",
    "-4 & -1 & 2 \\\\\n",
    "2 & 3 & -1 \\\\ \n",
    "\\end{pmatrix}"
   ]
  },
  {
   "cell_type": "code",
   "execution_count": 10,
   "metadata": {},
   "outputs": [],
   "source": [
    "import numpy as np\n",
    "from scipy import linalg"
   ]
  },
  {
   "cell_type": "code",
   "execution_count": 11,
   "metadata": {},
   "outputs": [
    {
     "name": "stdout",
     "output_type": "stream",
     "text": [
      "[[ 2 -2 -1]\n",
      " [ 1 -1  2]\n",
      " [-4 -1  2]\n",
      " [ 2  3 -2]]\n"
     ]
    }
   ],
   "source": [
    "A = np.array([[ 2, -2, -1],[ 1, -1,  2],[-4, -1,  2],[ 2,  3, -2]])  # □にPythonのリストを入れ指定の行列を作ってください。\n",
    "print(A)"
   ]
  },
  {
   "cell_type": "code",
   "execution_count": 16,
   "metadata": {},
   "outputs": [],
   "source": [
    "Q, R = linalg.qr(A)  # □に入る linalg の関数を入れてください"
   ]
  },
  {
   "cell_type": "code",
   "execution_count": 17,
   "metadata": {},
   "outputs": [
    {
     "name": "stdout",
     "output_type": "stream",
     "text": [
      "[[-4.00000000e-01 -6.41426981e-01 -4.47213595e-01  4.78091444e-01]\n",
      " [-2.00000000e-01 -3.20713490e-01  8.94427191e-01  2.39045722e-01]\n",
      " [ 8.00000000e-01 -5.34522484e-02 -5.55111512e-17  5.97614305e-01]\n",
      " [-4.00000000e-01  6.94879229e-01 -1.66533454e-16  5.97614305e-01]]\n"
     ]
    }
   ],
   "source": [
    "print(Q)"
   ]
  },
  {
   "cell_type": "code",
   "execution_count": 18,
   "metadata": {
    "scrolled": true
   },
   "outputs": [
    {
     "name": "stdout",
     "output_type": "stream",
     "text": [
      "[[-5.         -1.          2.4       ]\n",
      " [ 0.          3.74165739 -1.49666295]\n",
      " [ 0.          0.          2.23606798]\n",
      " [ 0.          0.          0.        ]]\n"
     ]
    }
   ],
   "source": [
    "print(R)"
   ]
  },
  {
   "cell_type": "markdown",
   "metadata": {},
   "source": [
    "求めた、Q及びRの行数及び列数を確認して下しい。"
   ]
  },
  {
   "cell_type": "code",
   "execution_count": 19,
   "metadata": {
    "scrolled": true
   },
   "outputs": [
    {
     "name": "stdout",
     "output_type": "stream",
     "text": [
      "(4, 4)\n",
      "(4, 3)\n"
     ]
    }
   ],
   "source": [
    "print(Q.shape)\n",
    "assert Q.shape == (4, 4)\n",
    "print(R.shape)\n",
    "assert R.shape == (4, 3)"
   ]
  },
  {
   "cell_type": "markdown",
   "metadata": {},
   "source": [
    "求めた、Q及びRが、A = QR が正しいことを確認して下しい。"
   ]
  },
  {
   "cell_type": "code",
   "execution_count": 20,
   "metadata": {},
   "outputs": [
    {
     "data": {
      "text/plain": [
       "True"
      ]
     },
     "execution_count": 20,
     "metadata": {},
     "output_type": "execute_result"
    }
   ],
   "source": [
    "np.allclose(A, Q @ R)"
   ]
  },
  {
   "cell_type": "code",
   "execution_count": 21,
   "metadata": {},
   "outputs": [],
   "source": [
    "assert np.allclose(A, Q @ R)"
   ]
  },
  {
   "cell_type": "code",
   "execution_count": null,
   "metadata": {},
   "outputs": [],
   "source": []
  }
 ],
 "metadata": {
  "kernelspec": {
   "display_name": "Python 3",
   "language": "python",
   "name": "python3"
  },
  "language_info": {
   "codemirror_mode": {
    "name": "ipython",
    "version": 3
   },
   "file_extension": ".py",
   "mimetype": "text/x-python",
   "name": "python",
   "nbconvert_exporter": "python",
   "pygments_lexer": "ipython3",
   "version": "3.6.4"
  }
 },
 "nbformat": 4,
 "nbformat_minor": 2
}
